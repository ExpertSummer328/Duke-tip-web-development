{
 "cells": [
  {
   "cell_type": "markdown",
   "metadata": {},
   "source": [
    "<h2> Fahrenheite - Celsius  </h2>"
   ]
  },
  {
   "cell_type": "code",
   "execution_count": null,
   "metadata": {
    "collapsed": false
   },
   "outputs": [],
   "source": [
    "fahrenheit=-5\n",
    "print \"Fahrenheit\\t|\\tCelcius\"\n",
    "# Condition Check\n",
    "while fahrenheit<=5:\n",
    "    celcius= 5.0/9 * (fahrenheit -32)\n",
    "    print fahrenheit,\"\\t\\t|\\t\",celcius\n",
    "    fahrenheit=fahrenheit+1"
   ]
  },
  {
   "cell_type": "code",
   "execution_count": null,
   "metadata": {
    "collapsed": false,
    "scrolled": true
   },
   "outputs": [],
   "source": [
    "print \"hello\\nvijendra\"   #new line"
   ]
  },
  {
   "cell_type": "markdown",
   "metadata": {},
   "source": [
    "<h3> Appending to the list </h3>"
   ]
  },
  {
   "cell_type": "code",
   "execution_count": null,
   "metadata": {
    "collapsed": false
   },
   "outputs": [],
   "source": [
    "str_list = []\n",
    "str_list.append('a')\n",
    "print str_list"
   ]
  },
  {
   "cell_type": "code",
   "execution_count": null,
   "metadata": {
    "collapsed": true
   },
   "outputs": [],
   "source": []
  },
  {
   "cell_type": "code",
   "execution_count": null,
   "metadata": {
    "collapsed": true
   },
   "outputs": [],
   "source": []
  },
  {
   "cell_type": "code",
   "execution_count": null,
   "metadata": {
    "collapsed": false
   },
   "outputs": [],
   "source": [
    "str_list.append('b')\n",
    "print str_list"
   ]
  },
  {
   "cell_type": "code",
   "execution_count": null,
   "metadata": {
    "collapsed": false
   },
   "outputs": [],
   "source": [
    "if 'b' in str_list:\n",
    "    print 'yes'\n",
    "else:\n",
    "    print 'no'"
   ]
  },
  {
   "cell_type": "markdown",
   "metadata": {},
   "source": [
    "<h2> THE HangMan Game </h2>\n",
    "<pre>\n",
    "word - hangman\n",
    "guess 1 \n",
    "your word so far ------> - - - - - - -  help>> '- '* len(word)\n",
    "\n",
    "your character guess -------> a\n",
    "\n",
    "guess 1 :\n",
    "\n",
    "your word so far ------> - a - - - a -\n",
    "\n",
    "your character guess -------> e\n",
    "\n",
    "Incorrect guess\n",
    "\n",
    "guess 2:\n",
    "\n",
    "your word so far ------> - a - - - a -\n",
    "\n",
    "your character guess -------> a\n",
    "\n",
    "You already guessed it \n",
    "\n",
    "guess 2:\n",
    "\n",
    "your word so far ------> - a - - - a -\n",
    "\n",
    "your character guess -------> h\n",
    "\n",
    "guess 2:\n",
    "\n",
    "your word so far ------> h a - - - a -\n",
    "\n",
    "your character guess -------> n\n",
    "\n",
    "guess 2:\n",
    "\n",
    "your word so far ------> h a n - - a n\n",
    "\n",
    "your character guess -------> m\n",
    "\n",
    "guess 2:\n",
    "\n",
    "your word so far ------> h a n - m a n\n",
    "\n",
    "your character guess -------> g\n",
    "\n",
    "You won !!!!!"
   ]
  },
  {
   "cell_type": "code",
   "execution_count": null,
   "metadata": {
    "collapsed": false
   },
   "outputs": [],
   "source": [
    "txt = open('words.txt')\n",
    "word_list = txt.read().split('\\n')\n",
    "word_list[:5]"
   ]
  },
  {
   "cell_type": "code",
   "execution_count": null,
   "metadata": {
    "collapsed": false
   },
   "outputs": [],
   "source": [
    "import random \n",
    "random.shuffle(word_list)\n",
    "print word_list[0]"
   ]
  },
  {
   "cell_type": "code",
   "execution_count": null,
   "metadata": {
    "collapsed": false
   },
   "outputs": [],
   "source": [
    "len(word_list[0])"
   ]
  },
  {
   "cell_type": "markdown",
   "metadata": {},
   "source": [
    "<h2> HANGMAN GAME </h2>"
   ]
  },
  {
   "cell_type": "markdown",
   "metadata": {},
   "source": [
    "<h3> HINT </h3>"
   ]
  },
  {
   "cell_type": "code",
   "execution_count": null,
   "metadata": {
    "collapsed": true
   },
   "outputs": [],
   "source": [
    "word = 'vijendra'"
   ]
  },
  {
   "cell_type": "code",
   "execution_count": null,
   "metadata": {
    "collapsed": false
   },
   "outputs": [],
   "source": [
    "word[2] "
   ]
  },
  {
   "cell_type": "code",
   "execution_count": null,
   "metadata": {
    "collapsed": false
   },
   "outputs": [],
   "source": [
    "word[2] = 'L'"
   ]
  },
  {
   "cell_type": "code",
   "execution_count": null,
   "metadata": {
    "collapsed": false
   },
   "outputs": [],
   "source": [
    "word"
   ]
  },
  {
   "cell_type": "code",
   "execution_count": null,
   "metadata": {
    "collapsed": true
   },
   "outputs": [],
   "source": [
    "word = list(word)"
   ]
  },
  {
   "cell_type": "code",
   "execution_count": null,
   "metadata": {
    "collapsed": false
   },
   "outputs": [],
   "source": [
    "word"
   ]
  },
  {
   "cell_type": "code",
   "execution_count": null,
   "metadata": {
    "collapsed": true
   },
   "outputs": [],
   "source": [
    "word[2] = 'L'"
   ]
  },
  {
   "cell_type": "code",
   "execution_count": null,
   "metadata": {
    "collapsed": true
   },
   "outputs": [],
   "source": [
    "word = ''.join(word)"
   ]
  },
  {
   "cell_type": "code",
   "execution_count": null,
   "metadata": {
    "collapsed": false
   },
   "outputs": [],
   "source": [
    "word"
   ]
  },
  {
   "cell_type": "code",
   "execution_count": null,
   "metadata": {
    "collapsed": true
   },
   "outputs": [],
   "source": [
    "guessed_word = '------'\n",
    "guessed_char = 'a'\n",
    "word = 'banana'"
   ]
  },
  {
   "cell_type": "code",
   "execution_count": null,
   "metadata": {
    "collapsed": false
   },
   "outputs": [],
   "source": [
    "i = 0  \n",
    "while i < len(word):\n",
    "    guessed_word = list(guessed_word)\n",
    "    if guessed_char == word[i]:\n",
    "        guessed_word[i] = guessed_char\n",
    "    i = i + 1\n",
    "guessed_word=''.join(guessed_word)\n",
    "print guessed_word  "
   ]
  },
  {
   "cell_type": "markdown",
   "metadata": {},
   "source": [
    "<h2> Now lets to the HANGMAN game </h2>"
   ]
  },
  {
   "cell_type": "code",
   "execution_count": null,
   "metadata": {
    "collapsed": false
   },
   "outputs": [],
   "source": []
  },
  {
   "cell_type": "code",
   "execution_count": null,
   "metadata": {
    "collapsed": false
   },
   "outputs": [],
   "source": []
  },
  {
   "cell_type": "code",
   "execution_count": null,
   "metadata": {
    "collapsed": false
   },
   "outputs": [],
   "source": []
  },
  {
   "cell_type": "code",
   "execution_count": 3,
   "metadata": {
    "collapsed": false
   },
   "outputs": [
    {
     "name": "stdout",
     "output_type": "stream",
     "text": [
      "----\n"
     ]
    }
   ],
   "source": [
    "import random\n",
    "txt = open('words.txt')\n",
    "word_list = txt.read().split('\\n')\n",
    "word_list[:5]\n",
    "\n",
    "#shuffle them\n",
    "random.shuffle(word_list)\n",
    "word = word_list[0]\n",
    "#print word\n",
    "word_so_far ='-'*len(word)\n",
    "print word_so_far\n",
    "guessed_char_list =[]\n",
    "\n",
    "guess_number = 1"
   ]
  },
  {
   "cell_type": "code",
   "execution_count": 2,
   "metadata": {
    "collapsed": false
   },
   "outputs": [
    {
     "name": "stdout",
     "output_type": "stream",
     "text": [
      "-----\n",
      "guess 1\n",
      "so far -----\n",
      "guess a charactera\n",
      "guess 1\n",
      "so far --a--\n",
      "guess a characterb\n",
      "guess 2\n",
      "so far --a--\n",
      "guess a characters\n",
      "guess 2\n",
      "so far s-a--\n",
      "guess a charactert\n",
      "guess 3\n",
      "so far s-a--\n",
      "guess a characterh\n",
      "guess 4\n",
      "so far s-a--\n",
      "guess a charactere\n",
      "guess 4\n",
      "so far s-a-e\n",
      "guess a charactera\n",
      "You already guessed a\n",
      "guess 4\n",
      "so far s-a-e\n",
      "guess a charactern\n",
      "guess 4\n",
      "so far sna-e\n",
      "guess a characterr\n",
      "guess 5\n",
      "so far sna-e\n",
      "guess a characterk\n",
      "you won\n"
     ]
    }
   ],
   "source": [
    "\n",
    "while guess_number < 8:\n",
    "    print 'guess',guess_number\n",
    "    print 'so far',word_so_far\n",
    "    \n",
    "    user_input = raw_input('guess a character')\n",
    "    \n",
    "    if user_input in guessed_char_list:\n",
    "        print \"You already guessed\",user_input\n",
    "        continue\n",
    "    else:\n",
    "        guessed_char_list.append(user_input)\n",
    "    \n",
    "    j = 0\n",
    "    if user_input  in word:\n",
    "        word_so_far = list(word_so_far)\n",
    "    \n",
    "        while j < len(word):\n",
    "            if user_input == word[j] :\n",
    "                word_so_far[j] = user_input\n",
    "            j = j + 1\n",
    "        word_so_far=''.join(word_so_far)\n",
    "    \n",
    "        if word_so_far == word:\n",
    "            print \"you won\"\n",
    "            break\n",
    "        continue\n",
    "    guess_number = guess_number + 1 \n",
    "else:\n",
    "    print \"You couldn't guess it, it was\",word"
   ]
  },
  {
   "cell_type": "code",
   "execution_count": 4,
   "metadata": {
    "collapsed": false
   },
   "outputs": [
    {
     "name": "stdout",
     "output_type": "stream",
     "text": [
      "yes\n"
     ]
    }
   ],
   "source": [
    "if 's' in 'snake':\n",
    "    print \"yes\""
   ]
  },
  {
   "cell_type": "code",
   "execution_count": null,
   "metadata": {
    "collapsed": true
   },
   "outputs": [],
   "source": []
  }
 ],
 "metadata": {
  "kernelspec": {
   "display_name": "Python 2",
   "language": "python",
   "name": "python2"
  },
  "language_info": {
   "codemirror_mode": {
    "name": "ipython",
    "version": 2
   },
   "file_extension": ".py",
   "mimetype": "text/x-python",
   "name": "python",
   "nbconvert_exporter": "python",
   "pygments_lexer": "ipython2",
   "version": "2.7.11"
  }
 },
 "nbformat": 4,
 "nbformat_minor": 0
}
