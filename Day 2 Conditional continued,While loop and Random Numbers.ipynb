{
 "cells": [
  {
   "cell_type": "markdown",
   "metadata": {
    "collapsed": true
   },
   "source": [
    "<h2>Modulus Operator </h2>\n"
   ]
  },
  {
   "cell_type": "code",
   "execution_count": 1,
   "metadata": {
    "collapsed": false
   },
   "outputs": [
    {
     "data": {
      "text/plain": [
       "2"
      ]
     },
     "execution_count": 1,
     "metadata": {},
     "output_type": "execute_result"
    }
   ],
   "source": [
    "8 % 3"
   ]
  },
  {
   "cell_type": "code",
   "execution_count": 2,
   "metadata": {
    "collapsed": false
   },
   "outputs": [
    {
     "data": {
      "text/plain": [
       "1"
      ]
     },
     "execution_count": 2,
     "metadata": {},
     "output_type": "execute_result"
    }
   ],
   "source": [
    "# so what do you think it does\n",
    "16 % 5"
   ]
  },
  {
   "cell_type": "code",
   "execution_count": 3,
   "metadata": {
    "collapsed": false
   },
   "outputs": [
    {
     "data": {
      "text/plain": [
       "0"
      ]
     },
     "execution_count": 3,
     "metadata": {},
     "output_type": "execute_result"
    }
   ],
   "source": [
    "18 % 3"
   ]
  },
  {
   "cell_type": "code",
   "execution_count": 4,
   "metadata": {
    "collapsed": true
   },
   "outputs": [],
   "source": [
    "# it finds the remainder\n",
    "# 8 % 3 = remainder 2\n",
    "# 16 % 5 = remainder 1\n",
    "# 18 % 3 = remainder 0"
   ]
  },
  {
   "cell_type": "markdown",
   "metadata": {},
   "source": [
    "<h2> Finding whether a number is even or odd </h2>"
   ]
  },
  {
   "cell_type": "code",
   "execution_count": 5,
   "metadata": {
    "collapsed": false
   },
   "outputs": [
    {
     "name": "stdout",
     "output_type": "stream",
     "text": [
      "enter you number here--->12\n",
      "its even\n"
     ]
    }
   ],
   "source": [
    "#by Dustin \n",
    "num = input('enter you number here--->')\n",
    "if num % 2 == 0:\n",
    "    print ('its even')\n",
    "else:\n",
    "    print ('its odd')"
   ]
  },
  {
   "cell_type": "markdown",
   "metadata": {},
   "source": [
    "<h2> Find if the triangle is valid given its sides </h2>"
   ]
  },
  {
   "cell_type": "code",
   "execution_count": 6,
   "metadata": {
    "collapsed": false
   },
   "outputs": [],
   "source": [
    "#1 8 7  invalid triangle\n",
    "#3 4 5  valid triangle"
   ]
  },
  {
   "cell_type": "code",
   "execution_count": 7,
   "metadata": {
    "collapsed": false
   },
   "outputs": [
    {
     "name": "stdout",
     "output_type": "stream",
     "text": [
      "Enter first side: 12\n",
      "Enter second side: 13\n",
      "Enter third side: 4\n",
      "Valid triangle\n"
     ]
    }
   ],
   "source": [
    "#by patrick\n",
    "s1 = input('Enter first side: ')\n",
    "s2 = input('Enter second side: ')\n",
    "s3 = input('Enter third side: ')\n",
    "\n",
    "if s1 + s2 > s3:\n",
    "    if s2 + s3 > s1:\n",
    "        if s1 + s3 > s2:\n",
    "            print \"Valid triangle\"\n",
    "        else: \n",
    "            print \"Invalid triangle\"\n",
    "    else: \n",
    "        print \"Invalid triangle\"\n",
    "else:\n",
    "    print \"Invalid triangle\""
   ]
  },
  {
   "cell_type": "code",
   "execution_count": 8,
   "metadata": {
    "collapsed": false
   },
   "outputs": [
    {
     "name": "stdout",
     "output_type": "stream",
     "text": [
      "Enter first side: 11\n",
      "Enter second side: 1\n",
      "Enter third side: 2\n",
      "is not a valid triangle\n"
     ]
    }
   ],
   "source": [
    "#By Ayden\n",
    "s1 = input('Enter first side: ')\n",
    "s2 = input('Enter second side: ')\n",
    "s3 = input('Enter third side: ')\n",
    "if s1+s2>s3:\n",
    "    v1=True\n",
    "else:\n",
    "    v1=False\n",
    "if s2+s3>s1:\n",
    "    v2=True\n",
    "else:\n",
    "    v2=False\n",
    "if s3+s1>s2:\n",
    "    v3=True\n",
    "else:\n",
    "    v3=False\n",
    "if v1 and v2 and v3:\n",
    "    print ('is a valid triangle')\n",
    "else:\n",
    "    print ('is not a valid triangle')"
   ]
  },
  {
   "cell_type": "markdown",
   "metadata": {},
   "source": [
    "<h3> A little aside AND,OR and NOT </h3>"
   ]
  },
  {
   "cell_type": "code",
   "execution_count": 9,
   "metadata": {
    "collapsed": false
   },
   "outputs": [
    {
     "name": "stdout",
     "output_type": "stream",
     "text": [
      "yayyyyyy we will go for picnic\n"
     ]
    }
   ],
   "source": [
    "rain = False\n",
    "day = 'Sunday'\n",
    "if rain == False and day == 'Sunday': #if it is not raining and this is sunday\n",
    "    print \"yayyyyyy we will go for picnic\"\n",
    "else:\n",
    "    print \"ohhhhhhh we are not going to picnic\""
   ]
  },
  {
   "cell_type": "code",
   "execution_count": 10,
   "metadata": {
    "collapsed": false
   },
   "outputs": [
    {
     "name": "stdout",
     "output_type": "stream",
     "text": [
      "ohhhhhhh we are not going to picnic\n"
     ]
    }
   ],
   "source": [
    "rain = False\n",
    "day = 'Sunday' \n",
    "if rain and day == 'Sunday':   # if it raining and day is sunday \n",
    "    print \"yayyyyyy we will go for picnic\"\n",
    "else:\n",
    "    print \"ohhhhhhh we are not going to picnic\""
   ]
  },
  {
   "cell_type": "code",
   "execution_count": 11,
   "metadata": {
    "collapsed": false
   },
   "outputs": [
    {
     "name": "stdout",
     "output_type": "stream",
     "text": [
      "yayyyyyy we will go for picnic\n"
     ]
    }
   ],
   "source": [
    "rain = False\n",
    "day = 'Sunday' \n",
    "if not rain and day == 'Sunday':   # if it not raining and day is sunday \n",
    "    print \"yayyyyyy we will go for picnic\"\n",
    "else:\n",
    "    print \"ohhhhhhh we are not going to picnic\""
   ]
  },
  {
   "cell_type": "code",
   "execution_count": 12,
   "metadata": {
    "collapsed": false
   },
   "outputs": [
    {
     "name": "stdout",
     "output_type": "stream",
     "text": [
      "Energy will drain out\n"
     ]
    }
   ],
   "source": [
    "#or\n",
    "play = 'Football'\n",
    "if play == 'Football' or play == 'Basketball':\n",
    "    print \"Energy will drain out\"\n",
    "else:\n",
    "    print \"You should play outdoor\""
   ]
  },
  {
   "cell_type": "code",
   "execution_count": 13,
   "metadata": {
    "collapsed": false
   },
   "outputs": [
    {
     "name": "stdout",
     "output_type": "stream",
     "text": [
      "You should play outdoor\n"
     ]
    }
   ],
   "source": [
    "#or\n",
    "play = 'Videogame'\n",
    "if play == 'Football' or play == 'Basketball':\n",
    "    print \"Energy will drain out\"\n",
    "else:\n",
    "    print \"You should play outdoor\""
   ]
  },
  {
   "cell_type": "code",
   "execution_count": 14,
   "metadata": {
    "collapsed": false
   },
   "outputs": [
    {
     "name": "stdout",
     "output_type": "stream",
     "text": [
      "Energy will drain out\n"
     ]
    }
   ],
   "source": [
    "#not operator\n",
    "play = 'Videogame'\n",
    "if not play == 'Football' or play == 'Basketball':\n",
    "    print \"Energy will drain out\"\n",
    "else:\n",
    "    print \"You should play outdoor\""
   ]
  },
  {
   "cell_type": "code",
   "execution_count": 15,
   "metadata": {
    "collapsed": false
   },
   "outputs": [
    {
     "name": "stdout",
     "output_type": "stream",
     "text": [
      "Energy will drain out\n"
     ]
    }
   ],
   "source": [
    "#another way to do \"not\"\n",
    "play = 'Videogame'\n",
    "if  play != 'Football' or play == 'Basketball':#another way to do not\n",
    "    print \"Energy will drain out\"\n",
    "else:\n",
    "    print \"You should play outdoor\""
   ]
  },
  {
   "cell_type": "markdown",
   "metadata": {},
   "source": [
    "<h3> Again back to the same problem of valid triangle </h3>"
   ]
  },
  {
   "cell_type": "code",
   "execution_count": 16,
   "metadata": {
    "collapsed": false
   },
   "outputs": [
    {
     "name": "stdout",
     "output_type": "stream",
     "text": [
      "Enter first side: 12\n",
      "Enter second side: 11\n",
      "Enter third side: 13\n",
      "valid triangle\n"
     ]
    }
   ],
   "source": [
    "#by Amanda\n",
    "side1 = input('Enter first side: ')\n",
    "side2 = input('Enter second side: ')\n",
    "side3 = input('Enter third side: ')\n",
    "if side1 + side2 > side3 and side3 + side1 > side2 and side2 + side3 > side1:\n",
    "    print \"valid triangle\"\n",
    "else:\n",
    "    print \"invalid triangle\""
   ]
  },
  {
   "cell_type": "markdown",
   "metadata": {},
   "source": [
    "<h3> Another Way find the largest and then compare with the sum of other 2 </h3>"
   ]
  },
  {
   "cell_type": "code",
   "execution_count": 17,
   "metadata": {
    "collapsed": false
   },
   "outputs": [
    {
     "name": "stdout",
     "output_type": "stream",
     "text": [
      "Enter first side: 15\n",
      "Enter second side: 8\n",
      "Enter third side: 17\n",
      "Valid Triangle\n"
     ]
    }
   ],
   "source": [
    "#by Aidan\n",
    "side1 = input('Enter first side: ')\n",
    "side2 = input('Enter second side: ')\n",
    "side3 = input('Enter third side: ')\n",
    "max_side = max(side1,side2,side3)\n",
    "if side1 + side2 + side3 - max_side > max_side:\n",
    "    print \"Valid Triangle\"\n",
    "else:\n",
    "    print \"Invalid Triangle\""
   ]
  },
  {
   "cell_type": "markdown",
   "metadata": {},
   "source": [
    "<h2>Find if we have a right triangle given the sides</h2>"
   ]
  },
  {
   "cell_type": "code",
   "execution_count": 18,
   "metadata": {
    "collapsed": false
   },
   "outputs": [
    {
     "name": "stdout",
     "output_type": "stream",
     "text": [
      "Enter first side: 3\n",
      "Enter second side: 4\n",
      "Enter third side: 5\n",
      "is a right triangle\n"
     ]
    }
   ],
   "source": [
    "#By Dalton\n",
    "side1 = input('Enter first side: ')\n",
    "side2 = input('Enter second side: ')\n",
    "side3 = input('Enter third side: ')\n",
    "max_side = max(side1,side2,side3)\n",
    "if side1 ** 2 + side2 ** 2 + side3 ** 2 - max_side ** 2 == max_side ** 2:\n",
    "    print \"is a right triangle\"\n",
    "else:\n",
    "    print \"is not a right triangle\""
   ]
  },
  {
   "cell_type": "markdown",
   "metadata": {},
   "source": [
    "<h2> Find your grade </h2>"
   ]
  },
  {
   "cell_type": "markdown",
   "metadata": {},
   "source": [
    "<pre>\n",
    "Input User's marks \n",
    "output Grade\n",
    "A - above 90\n",
    "B+ - above 85\n",
    "B - above 80\n",
    "C+- above 75\n",
    "C - above 70\n",
    "D - above or equal to 60\n",
    "F - below 60\n",
    "</pre>"
   ]
  },
  {
   "cell_type": "code",
   "execution_count": 21,
   "metadata": {
    "collapsed": false
   },
   "outputs": [
    {
     "name": "stdout",
     "output_type": "stream",
     "text": [
      "enter your percentage: 80\n",
      "Something else\n"
     ]
    }
   ],
   "source": [
    "marks = input('enter your percentage: ')\n",
    "\n",
    "if marks > 90 :\n",
    "    print \"A\"\n",
    "else:\n",
    "    if marks > 85:\n",
    "        print \"B+\"\n",
    "    else:\n",
    "        if marks > 80:\n",
    "            print \"B\"\n",
    "        else:\n",
    "            print \"Something else\""
   ]
  },
  {
   "cell_type": "markdown",
   "metadata": {},
   "source": [
    "<h3> Else if statement </h3>"
   ]
  },
  {
   "cell_type": "code",
   "execution_count": 20,
   "metadata": {
    "collapsed": false
   },
   "outputs": [
    {
     "name": "stdout",
     "output_type": "stream",
     "text": [
      "enter your percentage: 98\n",
      "A\n"
     ]
    }
   ],
   "source": [
    "# else if \n",
    "marks = input('enter your percentage: ')\n",
    "if marks > 90:\n",
    "    print \"A\"\n",
    "elif marks > 85:\n",
    "    print \"B+\"\n",
    "elif marks > 80:\n",
    "    print \"B\"\n",
    "elif marks > 75:\n",
    "    print \"C+\"\n",
    "elif marks > 70:\n",
    "    print \"C\"\n",
    "elif marks >= 60:\n",
    "    print \"D\"\n",
    "else:\n",
    "    print \"Fail\""
   ]
  },
  {
   "cell_type": "markdown",
   "metadata": {},
   "source": [
    "<h2> Loops </h2>"
   ]
  },
  {
   "cell_type": "markdown",
   "metadata": {},
   "source": [
    "<h3>What is a loop - repeat over and over again until something stops it</h3> "
   ]
  },
  {
   "cell_type": "code",
   "execution_count": 22,
   "metadata": {
    "collapsed": true
   },
   "outputs": [],
   "source": [
    "#donot run -infinite loop\n",
    "#while True:\n",
    "#    print \"Vijendra\""
   ]
  },
  {
   "cell_type": "markdown",
   "metadata": {},
   "source": [
    "<h3> 3 Things to REMEMBER </h3>"
   ]
  },
  {
   "cell_type": "code",
   "execution_count": 23,
   "metadata": {
    "collapsed": false
   },
   "outputs": [
    {
     "name": "stdout",
     "output_type": "stream",
     "text": [
      "vijendra\n",
      "vijendra\n",
      "vijendra\n",
      "vijendra\n",
      "vijendra\n",
      "vijendra\n",
      "vijendra\n",
      "vijendra\n",
      "vijendra\n",
      "vijendra\n"
     ]
    }
   ],
   "source": [
    "i = 1 #initialization\n",
    "while i != 11: #terminating condition\n",
    "    print \"vijendra\"\n",
    "    i = i + 1 #reinitialization"
   ]
  },
  {
   "cell_type": "code",
   "execution_count": 24,
   "metadata": {
    "collapsed": false
   },
   "outputs": [
    {
     "name": "stdout",
     "output_type": "stream",
     "text": [
      "1\n",
      "2\n",
      "3\n",
      "4\n",
      "5\n",
      "6\n",
      "7\n",
      "8\n",
      "9\n",
      "10\n"
     ]
    }
   ],
   "source": [
    "i = 1 #initialization\n",
    "while i != 11: #terminating condition\n",
    "    print i\n",
    "    i = i + 1 #reinitialization"
   ]
  },
  {
   "cell_type": "markdown",
   "metadata": {},
   "source": [
    "<h2> Find the sum of the series </h2>\n",
    "<pre>\n",
    " 1 + 2 + 3 +.......+ n = ?\n",
    "here input n is taken from user\n",
    "</pre>"
   ]
  },
  {
   "cell_type": "code",
   "execution_count": 25,
   "metadata": {
    "collapsed": true
   },
   "outputs": [],
   "source": [
    "#sum_of_num = sum_of_num + i this statement is helpful for doing the problem"
   ]
  },
  {
   "cell_type": "code",
   "execution_count": 26,
   "metadata": {
    "collapsed": false
   },
   "outputs": [
    {
     "name": "stdout",
     "output_type": "stream",
     "text": [
      "limit?50\n",
      "1275\n"
     ]
    }
   ],
   "source": [
    "#by grant and aidan\n",
    "sum_of_numbers = 0\n",
    "n = input('limit?')\n",
    "i = 1\n",
    "while i != n+1:\n",
    "    #print i\n",
    "    sum_of_numbers = sum_of_numbers + i\n",
    "    #print sum_of_numbers\n",
    "    i = i+1\n",
    "print sum_of_numbers"
   ]
  },
  {
   "cell_type": "markdown",
   "metadata": {},
   "source": [
    "<h3>Now printing the series</h3>\n",
    "<pre>\n",
    "1 + 2 + 3 +.......+ n = ?\n",
    "</pre>"
   ]
  },
  {
   "cell_type": "code",
   "execution_count": 27,
   "metadata": {
    "collapsed": false
   },
   "outputs": [
    {
     "name": "stdout",
     "output_type": "stream",
     "text": [
      "enter limit-------------> 15\n",
      "1 + 2 + 3 + 4 + 5 + 6 + 7 + 8 + 9 + 10 + 11 + 12 + 13 + 14 + 15 = 120\n"
     ]
    }
   ],
   "source": [
    "#by Eshaan and Becca\n",
    "sum_of_numbers = 0\n",
    "n = input('enter limit-------------> ')\n",
    "i = 1\n",
    "while i <= n:\n",
    "    if  i !=n:\n",
    "        print i,\"+\",\n",
    "    else:\n",
    "        print i,\n",
    "    sum_of_numbers = sum_of_numbers + i\n",
    "    i = i+1\n",
    "print \"=\",sum_of_numbers"
   ]
  },
  {
   "cell_type": "markdown",
   "metadata": {},
   "source": [
    "<h3>Now printing the series</h3>\n",
    "<pre>\n",
    "1 X 2 X 3 X.......X n = ?\n",
    "</pre>"
   ]
  },
  {
   "cell_type": "code",
   "execution_count": 28,
   "metadata": {
    "collapsed": false
   },
   "outputs": [
    {
     "name": "stdout",
     "output_type": "stream",
     "text": [
      "enter limit------------> 20\n",
      "1 x 2 x 3 x 4 x 5 x 6 x 7 x 8 x 9 x 10 x 11 x 12 x 13 x 14 x 15 x 16 x 17 x 18 x 19 x 20 = 2432902008176640000\n"
     ]
    }
   ],
   "source": [
    "#by patrick \n",
    "#this is also called factorial\n",
    "product_of_numbers = 1\n",
    "n = input('enter limit------------> ')\n",
    "i = 1\n",
    "while i <= n:\n",
    "    if  i !=n:\n",
    "        print i,\"x\",\n",
    "    else:\n",
    "        print i,\n",
    "    product_of_numbers = product_of_numbers * i\n",
    "    i = i+1\n",
    "print \"=\",product_of_numbers"
   ]
  },
  {
   "cell_type": "markdown",
   "metadata": {},
   "source": [
    "<h2> Lets do TABLES </h2>"
   ]
  },
  {
   "cell_type": "markdown",
   "metadata": {},
   "source": [
    "<pre>\n",
    "input n\n",
    "if we have input as 11\n",
    "11 X 1 = 11\n",
    "11 X 2 = 22\n",
    "11 X 3 = 33\n",
    "---------\n",
    "\n",
    "11 X 10 = 110\n",
    "</pre>"
   ]
  },
  {
   "cell_type": "code",
   "execution_count": 29,
   "metadata": {
    "collapsed": false
   },
   "outputs": [
    {
     "name": "stdout",
     "output_type": "stream",
     "text": [
      "Enter Number Here-------> 15\n",
      "15 X 1 = 15\n",
      "15 X 2 = 30\n",
      "15 X 3 = 45\n",
      "15 X 4 = 60\n",
      "15 X 5 = 75\n",
      "15 X 6 = 90\n",
      "15 X 7 = 105\n",
      "15 X 8 = 120\n",
      "15 X 9 = 135\n",
      "15 X 10 = 150\n"
     ]
    }
   ],
   "source": [
    "#By Dustin\n",
    "num=input('Enter Number Here-------> ')\n",
    "i=1\n",
    "while i < 11:\n",
    "    print num,'X',i,'=',num * i\n",
    "    i =  i + 1"
   ]
  },
  {
   "cell_type": "markdown",
   "metadata": {},
   "source": [
    "<h2> Random Numbers and a high-low game </h2> "
   ]
  },
  {
   "cell_type": "code",
   "execution_count": 30,
   "metadata": {
    "collapsed": true
   },
   "outputs": [],
   "source": [
    "import random"
   ]
  },
  {
   "cell_type": "code",
   "execution_count": 31,
   "metadata": {
    "collapsed": false
   },
   "outputs": [
    {
     "data": {
      "text/plain": [
       "6"
      ]
     },
     "execution_count": 31,
     "metadata": {},
     "output_type": "execute_result"
    }
   ],
   "source": [
    "random.randint(1,6) # it will change value almost each time you run it"
   ]
  },
  {
   "cell_type": "markdown",
   "metadata": {},
   "source": [
    "<h3>Guessing game 1- 1000 random number generated</h3>\n",
    "<pre>\n",
    "you have got 8 chances \n",
    "say for eg the number came to be 255\n",
    "guess 1 - 500 output - guess lower\n",
    "guess 2 - 300 output - guess lower\n",
    "guess 3 - 200 output - guess higher\n",
    "guess 4 - 250 output - guess higher\n",
    "guess 5 - 260 output - guess lower\n",
    "guess 6 - 255 output - perfect \n",
    "\n",
    "if the user cannot guess say \"You lost\"\n",
    "</pre>"
   ]
  },
  {
   "cell_type": "code",
   "execution_count": 32,
   "metadata": {
    "collapsed": false
   },
   "outputs": [
    {
     "data": {
      "text/plain": [
       "287"
      ]
     },
     "execution_count": 32,
     "metadata": {},
     "output_type": "execute_result"
    }
   ],
   "source": [
    "import random\n",
    "random.randint(1,1000)"
   ]
  },
  {
   "cell_type": "markdown",
   "metadata": {},
   "source": [
    "<h3> A little aside BREAK statement</h3>"
   ]
  },
  {
   "cell_type": "code",
   "execution_count": 33,
   "metadata": {
    "collapsed": false
   },
   "outputs": [
    {
     "name": "stdout",
     "output_type": "stream",
     "text": [
      "vijendra\n",
      "vijendra\n",
      "vijendra\n",
      "vijendra\n",
      "vijendra\n",
      "vijendra\n",
      "vijendra\n",
      "vijendra\n",
      "vijendra\n",
      "vijendra\n",
      "vijendra\n"
     ]
    }
   ],
   "source": [
    "i = 0\n",
    "while i < 100:\n",
    "    print \"vijendra\"\n",
    "    if i == 10: #it breaks the loop at 10\n",
    "        break\n",
    "    i = i + 1"
   ]
  },
  {
   "cell_type": "code",
   "execution_count": 34,
   "metadata": {
    "collapsed": false
   },
   "outputs": [
    {
     "name": "stdout",
     "output_type": "stream",
     "text": [
      "guess 1\n",
      "enter a number 400\n",
      "guess lower\n",
      "guess 2\n",
      "enter a number 200\n",
      "guess higher\n",
      "guess 3\n",
      "enter a number 300\n",
      "guess lower\n",
      "guess 4\n",
      "enter a number 250\n",
      "guess higher\n",
      "guess 5\n",
      "enter a number 275\n",
      "guess lower\n",
      "guess 6\n",
      "enter a number 270\n",
      "guess higher\n",
      "guess 7\n",
      "enter a number 273\n",
      "guess lower\n",
      "guess 8\n",
      "enter a number 272\n",
      "guess lower\n",
      "you lost and the number was 271\n"
     ]
    }
   ],
   "source": [
    "#by Dalton\n",
    "import random\n",
    "num = random.randint(1,1000)\n",
    "i = 1\n",
    "if_won = False  # it tells after the loop whether you won or not\n",
    "while i <= 8:\n",
    "    print \"guess\",i\n",
    "    guess = input('enter a number ')\n",
    "    i = i + 1\n",
    "    if num > guess:\n",
    "        print \"guess higher\"\n",
    "    elif num < guess:\n",
    "        print \"guess lower\"\n",
    "    else:\n",
    "        if_won = True\n",
    "        break\n",
    "if if_won == True:\n",
    "    print \"you won\"\n",
    "else:\n",
    "    print \"you lost and the number was\",num\n",
    "    "
   ]
  },
  {
   "cell_type": "markdown",
   "metadata": {
    "collapsed": true
   },
   "source": [
    "<h3> A little aside on while with else not there in most of the programming languages </h3> \n"
   ]
  },
  {
   "cell_type": "code",
   "execution_count": 35,
   "metadata": {
    "collapsed": false
   },
   "outputs": [
    {
     "name": "stdout",
     "output_type": "stream",
     "text": [
      "2\n",
      "3\n",
      "4\n",
      "5\n",
      "6\n",
      "7\n",
      "8\n",
      "9\n",
      "10\n",
      "11\n",
      "done\n"
     ]
    }
   ],
   "source": [
    "# else will be executed once the condition is False\n",
    "i = 1\n",
    "while i <= 10:\n",
    "    i = i + 1\n",
    "    print i\n",
    "else:\n",
    "    print \"done\""
   ]
  },
  {
   "cell_type": "markdown",
   "metadata": {},
   "source": [
    "<h2>Another way to do the Guessing Game </h2>"
   ]
  },
  {
   "cell_type": "code",
   "execution_count": 37,
   "metadata": {
    "collapsed": false
   },
   "outputs": [
    {
     "name": "stdout",
     "output_type": "stream",
     "text": [
      "guess 1\n",
      "enter a number 300\n",
      "guess higher\n",
      "guess 2\n",
      "enter a number 400\n",
      "guess higher\n",
      "guess 3\n",
      "enter a number 500\n",
      "guess lower\n",
      "guess 4\n",
      "enter a number 450\n",
      "guess lower\n",
      "guess 5\n",
      "enter a number 425\n",
      "guess higher\n",
      "guess 6\n",
      "enter a number 435\n",
      "guess lower\n",
      "guess 7\n",
      "enter a number 430\n",
      "guess higher\n",
      "guess 8\n",
      "enter a number 433\n",
      "guess lower\n",
      "You lost the game, the number was 431\n"
     ]
    }
   ],
   "source": [
    "#by Dalton\n",
    "import random\n",
    "num = random.randint(1,1000)\n",
    "i = 1\n",
    "if_won = False\n",
    "while i <= 8:\n",
    "    print \"guess\",i\n",
    "    guess = input('enter a number ')\n",
    "    i = i + 1\n",
    "    if num > guess:\n",
    "        print \"guess higher\"\n",
    "    elif num < guess:\n",
    "        print \"guess lower\"\n",
    "    else:\n",
    "        print \"You Won\"\n",
    "        break\n",
    "else:\n",
    "    print \"You lost the game, the number was\",num"
   ]
  },
  {
   "cell_type": "code",
   "execution_count": null,
   "metadata": {
    "collapsed": true
   },
   "outputs": [],
   "source": []
  }
 ],
 "metadata": {
  "kernelspec": {
   "display_name": "Python 2",
   "language": "python",
   "name": "python2"
  },
  "language_info": {
   "codemirror_mode": {
    "name": "ipython",
    "version": 2
   },
   "file_extension": ".py",
   "mimetype": "text/x-python",
   "name": "python",
   "nbconvert_exporter": "python",
   "pygments_lexer": "ipython2",
   "version": "2.7.10"
  }
 },
 "nbformat": 4,
 "nbformat_minor": 0
}
