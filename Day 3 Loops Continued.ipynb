{
 "cells": [
  {
   "cell_type": "markdown",
   "metadata": {},
   "source": [
    "<h2> A little aside first- Continue statement </h2>"
   ]
  },
  {
   "cell_type": "code",
   "execution_count": 1,
   "metadata": {
    "collapsed": false
   },
   "outputs": [
    {
     "name": "stdout",
     "output_type": "stream",
     "text": [
      "1\n",
      "2\n",
      "3\n",
      "4\n",
      "6\n",
      "7\n",
      "8\n",
      "9\n"
     ]
    }
   ],
   "source": [
    "#lets not print multiple of 5\n",
    "i = 1\n",
    "while i <= 10:\n",
    "    if i % 5 != 0:     \n",
    "        print i\n",
    "    i = i + 1\n"
   ]
  },
  {
   "cell_type": "code",
   "execution_count": 2,
   "metadata": {
    "collapsed": false
   },
   "outputs": [
    {
     "name": "stdout",
     "output_type": "stream",
     "text": [
      "1\n",
      "2\n",
      "3\n",
      "4\n",
      "6\n",
      "7\n",
      "8\n",
      "9\n",
      "11\n"
     ]
    }
   ],
   "source": [
    "i = 0\n",
    "while i <= 10:\n",
    "    i = i + 1\n",
    "    if i % 5 == 0:     \n",
    "        continue\n",
    "        print \"vijendra\"  #never get executed\n",
    "    print i"
   ]
  },
  {
   "cell_type": "markdown",
   "metadata": {},
   "source": [
    "<h3> Watch for the error - This is Infinite </h3>"
   ]
  },
  {
   "cell_type": "code",
   "execution_count": 3,
   "metadata": {
    "collapsed": false
   },
   "outputs": [],
   "source": [
    "# it is an infinite loop\n",
    "#i = 0\n",
    "#while i <= 10:\n",
    "#    if i % 5 == 0:     \n",
    "#        print \"vijendra\"\n",
    "#        continue    \n",
    "#    print i\n",
    "#    i = i + 1 #i is not changing after 4\n",
    "    "
   ]
  },
  {
   "cell_type": "markdown",
   "metadata": {},
   "source": [
    "<h2> Range </h2>"
   ]
  },
  {
   "cell_type": "code",
   "execution_count": 4,
   "metadata": {
    "collapsed": false
   },
   "outputs": [
    {
     "data": {
      "text/plain": [
       "[0, 1, 2, 3, 4, 5, 6, 7, 8, 9]"
      ]
     },
     "execution_count": 4,
     "metadata": {},
     "output_type": "execute_result"
    }
   ],
   "source": [
    "range(10) #it will start from 0"
   ]
  },
  {
   "cell_type": "code",
   "execution_count": 5,
   "metadata": {
    "collapsed": false
   },
   "outputs": [
    {
     "data": {
      "text/plain": [
       "[1, 2, 3, 4, 5, 6, 7, 8, 9]"
      ]
     },
     "execution_count": 5,
     "metadata": {},
     "output_type": "execute_result"
    }
   ],
   "source": [
    "range(1,10)"
   ]
  },
  {
   "cell_type": "markdown",
   "metadata": {},
   "source": [
    "<h2> FOR loop </h2>"
   ]
  },
  {
   "cell_type": "code",
   "execution_count": 6,
   "metadata": {
    "collapsed": false
   },
   "outputs": [
    {
     "name": "stdout",
     "output_type": "stream",
     "text": [
      "1\n",
      "3\n",
      "5\n"
     ]
    }
   ],
   "source": [
    "#it is iterating over each and every element and getting that value\n",
    "for i in [1,3,5]:\n",
    "    print i"
   ]
  },
  {
   "cell_type": "code",
   "execution_count": 7,
   "metadata": {
    "collapsed": false
   },
   "outputs": [
    {
     "name": "stdout",
     "output_type": "stream",
     "text": [
      "0\n",
      "1\n",
      "2\n",
      "3\n",
      "4\n",
      "5\n",
      "6\n",
      "7\n",
      "8\n",
      "9\n"
     ]
    }
   ],
   "source": [
    "for i in range(10):\n",
    "    print i   # no need of intialization and reinitialization"
   ]
  },
  {
   "cell_type": "code",
   "execution_count": 8,
   "metadata": {
    "collapsed": false
   },
   "outputs": [
    {
     "name": "stdout",
     "output_type": "stream",
     "text": [
      "1\n",
      "2\n",
      "3\n",
      "4\n",
      "vijendra\n",
      "6\n",
      "7\n",
      "8\n",
      "9\n"
     ]
    }
   ],
   "source": [
    "# it will not go infinite \n",
    "for i in range(1,10):\n",
    "    if i == 5:\n",
    "        print \"vijendra\"\n",
    "        continue\n",
    "    print i"
   ]
  },
  {
   "cell_type": "markdown",
   "metadata": {},
   "source": [
    "<h3> TABLE again now with FOR </h3>"
   ]
  },
  {
   "cell_type": "code",
   "execution_count": 9,
   "metadata": {
    "collapsed": false
   },
   "outputs": [
    {
     "name": "stdout",
     "output_type": "stream",
     "text": [
      "enter a number---------->15\n",
      "15 X 1 = 15\n",
      "15 X 2 = 30\n",
      "15 X 3 = 45\n",
      "15 X 4 = 60\n",
      "15 X 5 = 75\n",
      "15 X 6 = 90\n",
      "15 X 7 = 105\n",
      "15 X 8 = 120\n",
      "15 X 9 = 135\n",
      "15 X 10 = 150\n"
     ]
    }
   ],
   "source": [
    "num = input('enter a number---------->') \n",
    "for i in range(1,11):\n",
    "    print num,'X', i ,'=',num * i"
   ]
  },
  {
   "cell_type": "markdown",
   "metadata": {},
   "source": [
    "<h2> Guessing Game again now with FOR </h2>"
   ]
  },
  {
   "cell_type": "code",
   "execution_count": 10,
   "metadata": {
    "collapsed": true
   },
   "outputs": [],
   "source": [
    "import random"
   ]
  },
  {
   "cell_type": "code",
   "execution_count": 11,
   "metadata": {
    "collapsed": false
   },
   "outputs": [
    {
     "name": "stdout",
     "output_type": "stream",
     "text": [
      "Guess a number in between 1 & 100 50\n",
      "Too low, try again\n",
      "Guess a number in between 1 & 100 75\n",
      "Too low, try again\n",
      "Guess a number in between 1 & 100 85\n",
      "Too low, try again\n",
      "Guess a number in between 1 & 100 90\n",
      "Too low, try again\n",
      "Guess a number in between 1 & 100 95\n",
      "Too low, try again\n",
      "Guess a number in between 1 & 100 98\n",
      "Too high, try again\n",
      "Guess a number in between 1 & 100 97\n",
      "You win\n"
     ]
    }
   ],
   "source": [
    "#finally i won\n",
    "num = random.randint(1,100)\n",
    "trys = 0\n",
    "for trys in range(1,9):\n",
    "    numguess = input(\"Guess a number in between 1 & 100 \")\n",
    "    if numguess == num :\n",
    "        print \"You win\"\n",
    "        break\n",
    "    elif numguess > num :\n",
    "        print \"Too high, try again\"\n",
    "    else:\n",
    "        print \"Too low, try again\"\n",
    "if trys == 8:\n",
    "    print \"You lost, the number was\", num"
   ]
  },
  {
   "cell_type": "markdown",
   "metadata": {},
   "source": [
    "<h2>Fibonacci numbers</h2>\n",
    "<pre>print 0 1 1 2 3 5 8 .........upto n</pre>"
   ]
  },
  {
   "cell_type": "code",
   "execution_count": 12,
   "metadata": {
    "collapsed": false
   },
   "outputs": [
    {
     "name": "stdout",
     "output_type": "stream",
     "text": [
      "Enter a number: 15\n",
      "0 1 1 2 3 5 8 13 21 34 55 89 144 233 377\n"
     ]
    }
   ],
   "source": [
    "#Alex's code\n",
    "k = input(\"Enter a number: \")\n",
    "a, b = 0, 1\n",
    "for i in range(0, k):\n",
    "    print a,\n",
    "    a, b = b, a + b"
   ]
  },
  {
   "cell_type": "markdown",
   "metadata": {},
   "source": [
    "<h2> The Number Palindrome </h2>\n",
    "<pre>\n",
    "121 is a palindrome\n",
    "123 is not\n",
    "try to find the reverse of the number first\n",
    "and then compare the reversed number with the original number\n",
    "</pre>"
   ]
  },
  {
   "cell_type": "code",
   "execution_count": 13,
   "metadata": {
    "collapsed": false
   },
   "outputs": [
    {
     "name": "stdout",
     "output_type": "stream",
     "text": [
      "enter a number to reverse: 1441\n",
      "Reverse of the number 1441\n",
      "Palindrome\n"
     ]
    }
   ],
   "source": [
    "# by Dalton\n",
    "num = input('enter a number to reverse: ')\n",
    "temp_num = num # save and retain the value\n",
    "reverse_number = 0\n",
    "while num > 0:\n",
    "    rem = num % 10\n",
    "    num = num / 10\n",
    "    reverse_number = reverse_number * 10 + rem\n",
    "print \"Reverse of the number\",reverse_number\n",
    "if temp_num == reverse_number:\n",
    "    print \"Palindrome\"\n",
    "else:\n",
    "    print \"Not a palindrome\""
   ]
  },
  {
   "cell_type": "markdown",
   "metadata": {},
   "source": [
    "<h3>Armstrong numbers(3 digit) from 100 - 999 </h3>\n",
    "<pre> \n",
    "153 - 1^3 + 5^3 + 3^3 = 153 Armstrong number\n",
    "123 - 1^3 + 2^3 + 3^3 = 36  Not an armstrong number\n",
    "</pre>"
   ]
  },
  {
   "cell_type": "code",
   "execution_count": 14,
   "metadata": {
    "collapsed": false
   },
   "outputs": [
    {
     "name": "stdout",
     "output_type": "stream",
     "text": [
      "153 370 371 407\n"
     ]
    }
   ],
   "source": [
    "#By Dustin and Dylan\n",
    "for i in range(100,1000):\n",
    "    num=i\n",
    "    temp_num=num\n",
    "    sum_num=0\n",
    "    reverse_number=0\n",
    "    while num>0:\n",
    "        rem = num % 10\n",
    "        num = num / 10\n",
    "        sum_num = sum_num + rem**3\n",
    "    if i == sum_num:\n",
    "        print i,\n",
    "    "
   ]
  },
  {
   "cell_type": "markdown",
   "metadata": {},
   "source": [
    "<h2>STAR Patterns </h2>"
   ]
  },
  {
   "cell_type": "code",
   "execution_count": 15,
   "metadata": {
    "collapsed": false
   },
   "outputs": [
    {
     "name": "stdout",
     "output_type": "stream",
     "text": [
      "enter the number of rows: 15\n",
      "\n",
      "* \n",
      "* * \n",
      "* * * \n",
      "* * * * \n",
      "* * * * * \n",
      "* * * * * * \n",
      "* * * * * * * \n",
      "* * * * * * * * \n",
      "* * * * * * * * * \n",
      "* * * * * * * * * * \n",
      "* * * * * * * * * * * \n",
      "* * * * * * * * * * * * \n",
      "* * * * * * * * * * * * * \n",
      "* * * * * * * * * * * * * * \n"
     ]
    }
   ],
   "source": [
    "#by Dalton\n",
    "stop = input('enter the number of rows: ')\n",
    "i = 0\n",
    "for i in range(stop):\n",
    "    print \"* \"*i"
   ]
  },
  {
   "cell_type": "code",
   "execution_count": 16,
   "metadata": {
    "collapsed": false
   },
   "outputs": [
    {
     "name": "stdout",
     "output_type": "stream",
     "text": [
      "enter the number of rows: 16\n",
      "                 \n",
      "                *\n",
      "               **\n",
      "              ***\n",
      "             ****\n",
      "            *****\n",
      "           ******\n",
      "          *******\n",
      "         ********\n",
      "        *********\n",
      "       **********\n",
      "      ***********\n",
      "     ************\n",
      "    *************\n",
      "   **************\n",
      "  ***************\n"
     ]
    }
   ],
   "source": [
    "#by Becca\n",
    "stop = input('enter the number of rows: ')\n",
    "i = 0\n",
    "for i in range(stop):\n",
    "    print \" \" * (stop - i), \"*\" * i"
   ]
  },
  {
   "cell_type": "code",
   "execution_count": 17,
   "metadata": {
    "collapsed": false
   },
   "outputs": [
    {
     "name": "stdout",
     "output_type": "stream",
     "text": [
      "enter the number of rows: 10\n",
      "           \n",
      "          ♥ \n",
      "         ♥ ♥ \n",
      "        ♥ ♥ ♥ \n",
      "       ♥ ♥ ♥ ♥ \n",
      "      ♥ ♥ ♥ ♥ ♥ \n",
      "     ♥ ♥ ♥ ♥ ♥ ♥ \n",
      "    ♥ ♥ ♥ ♥ ♥ ♥ ♥ \n",
      "   ♥ ♥ ♥ ♥ ♥ ♥ ♥ ♥ \n",
      "  ♥ ♥ ♥ ♥ ♥ ♥ ♥ ♥ ♥ \n"
     ]
    }
   ],
   "source": [
    "#by Becca\n",
    "stop = input('enter the number of rows: ')\n",
    "i = 0\n",
    "for i in range(stop):\n",
    "    print \" \" * (stop - i), \"♥ \" * i"
   ]
  },
  {
   "cell_type": "code",
   "execution_count": 18,
   "metadata": {
    "collapsed": false
   },
   "outputs": [
    {
     "name": "stdout",
     "output_type": "stream",
     "text": [
      "enter the number of rows: 10\n",
      " ♦ ♦ ♦ ♦ ♦ ♦ ♦ ♦ ♦ ♦ \n",
      "  ♦ ♦ ♦ ♦ ♦ ♦ ♦ ♦ ♦ \n",
      "   ♦ ♦ ♦ ♦ ♦ ♦ ♦ ♦ \n",
      "    ♦ ♦ ♦ ♦ ♦ ♦ ♦ \n",
      "     ♦ ♦ ♦ ♦ ♦ ♦ \n",
      "      ♦ ♦ ♦ ♦ ♦ \n",
      "       ♦ ♦ ♦ ♦ \n",
      "        ♦ ♦ ♦ \n",
      "         ♦ ♦ \n",
      "          ♦ \n"
     ]
    }
   ],
   "source": [
    "# by Aydan\n",
    "stop = input('enter the number of rows: ')\n",
    "i = 0\n",
    "for i in range(stop):\n",
    "    print \" \" * i, \"♦ \" * (stop-i)"
   ]
  },
  {
   "cell_type": "code",
   "execution_count": null,
   "metadata": {
    "collapsed": true
   },
   "outputs": [],
   "source": []
  }
 ],
 "metadata": {
  "kernelspec": {
   "display_name": "Python 2",
   "language": "python",
   "name": "python2"
  },
  "language_info": {
   "codemirror_mode": {
    "name": "ipython",
    "version": 2
   },
   "file_extension": ".py",
   "mimetype": "text/x-python",
   "name": "python",
   "nbconvert_exporter": "python",
   "pygments_lexer": "ipython2",
   "version": "2.7.10"
  }
 },
 "nbformat": 4,
 "nbformat_minor": 0
}
