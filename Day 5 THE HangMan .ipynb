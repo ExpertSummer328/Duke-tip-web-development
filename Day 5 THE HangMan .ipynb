{
 "cells": [
  {
   "cell_type": "markdown",
   "metadata": {},
   "source": [
    "<h2> Fahrenheite - Celsius table  </h2>"
   ]
  },
  {
   "cell_type": "code",
   "execution_count": 25,
   "metadata": {
    "collapsed": false
   },
   "outputs": [
    {
     "name": "stdout",
     "output_type": "stream",
     "text": [
      "Fahrenheit\t|\tCelcius\n",
      "-5 \t\t|\t-20.5555555556\n",
      "-4 \t\t|\t-20.0\n",
      "-3 \t\t|\t-19.4444444444\n",
      "-2 \t\t|\t-18.8888888889\n",
      "-1 \t\t|\t-18.3333333333\n",
      "0 \t\t|\t-17.7777777778\n",
      "1 \t\t|\t-17.2222222222\n",
      "2 \t\t|\t-16.6666666667\n",
      "3 \t\t|\t-16.1111111111\n",
      "4 \t\t|\t-15.5555555556\n",
      "5 \t\t|\t-15.0\n"
     ]
    }
   ],
   "source": [
    "fahrenheit=-5\n",
    "print \"Fahrenheit\\t|\\tCelcius\"\n",
    "# Condition Check\n",
    "while fahrenheit<=5:\n",
    "    celcius= 5.0/9 * (fahrenheit -32)\n",
    "    print fahrenheit,\"\\t\\t|\\t\",celcius\n",
    "    fahrenheit=fahrenheit+1"
   ]
  },
  {
   "cell_type": "code",
   "execution_count": 26,
   "metadata": {
    "collapsed": false,
    "scrolled": true
   },
   "outputs": [
    {
     "name": "stdout",
     "output_type": "stream",
     "text": [
      "hello\n",
      "vijendra\n"
     ]
    }
   ],
   "source": [
    "print \"hello\\nvijendra\"   #new line \\n"
   ]
  },
  {
   "cell_type": "markdown",
   "metadata": {},
   "source": [
    "<h2> Appending to the list </h2>"
   ]
  },
  {
   "cell_type": "code",
   "execution_count": 27,
   "metadata": {
    "collapsed": false
   },
   "outputs": [
    {
     "name": "stdout",
     "output_type": "stream",
     "text": [
      "['a']\n"
     ]
    }
   ],
   "source": [
    "str_list = []\n",
    "str_list.append('a')\n",
    "print str_list"
   ]
  },
  {
   "cell_type": "code",
   "execution_count": 28,
   "metadata": {
    "collapsed": false
   },
   "outputs": [
    {
     "name": "stdout",
     "output_type": "stream",
     "text": [
      "['a', 'b']\n"
     ]
    }
   ],
   "source": [
    "str_list.append('b')\n",
    "print str_list"
   ]
  },
  {
   "cell_type": "code",
   "execution_count": 29,
   "metadata": {
    "collapsed": false
   },
   "outputs": [
    {
     "name": "stdout",
     "output_type": "stream",
     "text": [
      "yes\n"
     ]
    }
   ],
   "source": [
    "if 'b' in str_list:\n",
    "    print 'yes'\n",
    "else:\n",
    "    print 'no'"
   ]
  },
  {
   "cell_type": "markdown",
   "metadata": {},
   "source": [
    "<h2> THE HangMan Game First illustration of Rules </h2>\n",
    "<pre>\n",
    "word - hangman\n",
    "guess 1 \n",
    "your word so far ------> - - - - - - -  help>> '- '* len(word)\n",
    "\n",
    "your character guess -------> a\n",
    "\n",
    "guess 1 :\n",
    "\n",
    "your word so far ------> - a - - - a -\n",
    "\n",
    "your character guess -------> e\n",
    "\n",
    "Incorrect guess\n",
    "\n",
    "guess 2:\n",
    "\n",
    "your word so far ------> - a - - - a -\n",
    "\n",
    "your character guess -------> a\n",
    "\n",
    "You already guessed it \n",
    "\n",
    "guess 2:\n",
    "\n",
    "your word so far ------> - a - - - a -\n",
    "\n",
    "your character guess -------> h\n",
    "\n",
    "guess 2:\n",
    "\n",
    "your word so far ------> h a - - - a -\n",
    "\n",
    "your character guess -------> n\n",
    "\n",
    "guess 2:\n",
    "\n",
    "your word so far ------> h a n - - a n\n",
    "\n",
    "your character guess -------> m\n",
    "\n",
    "guess 2:\n",
    "\n",
    "your word so far ------> h a n - m a n\n",
    "\n",
    "your character guess -------> g\n",
    "\n",
    "You won !!!!!"
   ]
  },
  {
   "cell_type": "markdown",
   "metadata": {},
   "source": [
    "<h3>HINTS before we proceed</h3>"
   ]
  },
  {
   "cell_type": "code",
   "execution_count": 30,
   "metadata": {
    "collapsed": false
   },
   "outputs": [
    {
     "data": {
      "text/plain": [
       "['able', 'about', 'account', 'acid', 'across']"
      ]
     },
     "execution_count": 30,
     "metadata": {},
     "output_type": "execute_result"
    }
   ],
   "source": [
    "txt = open('words.txt')\n",
    "word_list = txt.read().split('\\n')\n",
    "word_list[:5]"
   ]
  },
  {
   "cell_type": "code",
   "execution_count": 31,
   "metadata": {
    "collapsed": false
   },
   "outputs": [
    {
     "name": "stdout",
     "output_type": "stream",
     "text": [
      "ever\n"
     ]
    }
   ],
   "source": [
    "import random \n",
    "random.shuffle(word_list)\n",
    "print word_list[0]"
   ]
  },
  {
   "cell_type": "code",
   "execution_count": 32,
   "metadata": {
    "collapsed": false
   },
   "outputs": [
    {
     "data": {
      "text/plain": [
       "4"
      ]
     },
     "execution_count": 32,
     "metadata": {},
     "output_type": "execute_result"
    }
   ],
   "source": [
    "len(word_list[0])"
   ]
  },
  {
   "cell_type": "code",
   "execution_count": 33,
   "metadata": {
    "collapsed": false
   },
   "outputs": [
    {
     "data": {
      "text/plain": [
       "'----'"
      ]
     },
     "execution_count": 33,
     "metadata": {},
     "output_type": "execute_result"
    }
   ],
   "source": [
    "'-'*len(word_list[0])"
   ]
  },
  {
   "cell_type": "code",
   "execution_count": 34,
   "metadata": {
    "collapsed": true
   },
   "outputs": [],
   "source": [
    "word = 'vijendra'"
   ]
  },
  {
   "cell_type": "code",
   "execution_count": 35,
   "metadata": {
    "collapsed": false
   },
   "outputs": [
    {
     "data": {
      "text/plain": [
       "'j'"
      ]
     },
     "execution_count": 35,
     "metadata": {},
     "output_type": "execute_result"
    }
   ],
   "source": [
    "word[2] "
   ]
  },
  {
   "cell_type": "markdown",
   "metadata": {},
   "source": [
    "<h3> A Problem  - how to change the 3rd letter to L</h3>"
   ]
  },
  {
   "cell_type": "code",
   "execution_count": 36,
   "metadata": {
    "collapsed": false,
    "scrolled": true
   },
   "outputs": [
    {
     "ename": "TypeError",
     "evalue": "'str' object does not support item assignment",
     "output_type": "error",
     "traceback": [
      "\u001b[1;31m---------------------------------------------------------------------------\u001b[0m",
      "\u001b[1;31mTypeError\u001b[0m                                 Traceback (most recent call last)",
      "\u001b[1;32m<ipython-input-36-f80bfcca1ad3>\u001b[0m in \u001b[0;36m<module>\u001b[1;34m()\u001b[0m\n\u001b[1;32m----> 1\u001b[1;33m \u001b[0mword\u001b[0m\u001b[1;33m[\u001b[0m\u001b[1;36m2\u001b[0m\u001b[1;33m]\u001b[0m \u001b[1;33m=\u001b[0m \u001b[1;34m'L'\u001b[0m\u001b[1;33m\u001b[0m\u001b[0m\n\u001b[0m",
      "\u001b[1;31mTypeError\u001b[0m: 'str' object does not support item assignment"
     ]
    }
   ],
   "source": [
    "word[2] = 'L'"
   ]
  },
  {
   "cell_type": "code",
   "execution_count": 37,
   "metadata": {
    "collapsed": false
   },
   "outputs": [
    {
     "data": {
      "text/plain": [
       "'vijendra'"
      ]
     },
     "execution_count": 37,
     "metadata": {},
     "output_type": "execute_result"
    }
   ],
   "source": [
    "word"
   ]
  },
  {
   "cell_type": "code",
   "execution_count": 38,
   "metadata": {
    "collapsed": true
   },
   "outputs": [],
   "source": [
    "word = list(word)"
   ]
  },
  {
   "cell_type": "code",
   "execution_count": 39,
   "metadata": {
    "collapsed": false
   },
   "outputs": [
    {
     "data": {
      "text/plain": [
       "['v', 'i', 'j', 'e', 'n', 'd', 'r', 'a']"
      ]
     },
     "execution_count": 39,
     "metadata": {},
     "output_type": "execute_result"
    }
   ],
   "source": [
    "word"
   ]
  },
  {
   "cell_type": "code",
   "execution_count": 40,
   "metadata": {
    "collapsed": true
   },
   "outputs": [],
   "source": [
    "word[2] = 'L'"
   ]
  },
  {
   "cell_type": "code",
   "execution_count": 41,
   "metadata": {
    "collapsed": true
   },
   "outputs": [],
   "source": [
    "word = ''.join(word)"
   ]
  },
  {
   "cell_type": "code",
   "execution_count": 42,
   "metadata": {
    "collapsed": false
   },
   "outputs": [
    {
     "data": {
      "text/plain": [
       "'viLendra'"
      ]
     },
     "execution_count": 42,
     "metadata": {},
     "output_type": "execute_result"
    }
   ],
   "source": [
    "word #problem solved"
   ]
  },
  {
   "cell_type": "code",
   "execution_count": 43,
   "metadata": {
    "collapsed": false
   },
   "outputs": [
    {
     "name": "stdout",
     "output_type": "stream",
     "text": [
      "yes\n"
     ]
    }
   ],
   "source": [
    "if 's' in 'snake':\n",
    "    print \"yes\""
   ]
  },
  {
   "cell_type": "code",
   "execution_count": 44,
   "metadata": {
    "collapsed": true
   },
   "outputs": [],
   "source": [
    "guessed_word = '------'\n",
    "guessed_char = 'a'\n",
    "word = 'banana'"
   ]
  },
  {
   "cell_type": "markdown",
   "metadata": {},
   "source": [
    "<h3> Change the - to guessed character if it matches </h3>"
   ]
  },
  {
   "cell_type": "code",
   "execution_count": 45,
   "metadata": {
    "collapsed": false
   },
   "outputs": [
    {
     "name": "stdout",
     "output_type": "stream",
     "text": [
      "-a-a-a\n"
     ]
    }
   ],
   "source": [
    "#very crucial step\n",
    "i = 0  \n",
    "while i < len(word):\n",
    "    guessed_word = list(guessed_word)\n",
    "    if guessed_char == word[i]:\n",
    "        guessed_word[i] = guessed_char\n",
    "    i = i + 1\n",
    "guessed_word=''.join(guessed_word)\n",
    "print guessed_word  "
   ]
  },
  {
   "cell_type": "markdown",
   "metadata": {},
   "source": [
    "<h2> Now lets to the HANGMAN game </h2>"
   ]
  },
  {
   "cell_type": "code",
   "execution_count": 46,
   "metadata": {
    "collapsed": false
   },
   "outputs": [
    {
     "name": "stdout",
     "output_type": "stream",
     "text": [
      "----\n"
     ]
    }
   ],
   "source": [
    "#always run the these 2 cells together \n",
    "import random\n",
    "txt = open('words.txt')\n",
    "word_list = txt.read().split('\\n')\n",
    "word_list[:5]\n",
    "\n",
    "#shuffle them\n",
    "random.shuffle(word_list)\n",
    "word = word_list[0]\n",
    "#print word\n",
    "word_so_far ='-'*len(word)\n",
    "print word_so_far\n",
    "guessed_char_list =[]\n",
    "\n",
    "guess_number = 1"
   ]
  },
  {
   "cell_type": "code",
   "execution_count": 47,
   "metadata": {
    "collapsed": false
   },
   "outputs": [
    {
     "name": "stdout",
     "output_type": "stream",
     "text": [
      "guess : 1\n",
      "so far : ----\n",
      "guess a character------------> m\n",
      "guess : 2\n",
      "so far : ----\n",
      "guess a character------------> a\n",
      "guess : 3\n",
      "so far : ----\n",
      "guess a character------------> e\n",
      "guess : 4\n",
      "so far : ----\n",
      "guess a character------------> l\n",
      "guess : 4\n",
      "so far : --ll\n",
      "guess a character------------> o\n",
      "guess : 5\n",
      "so far : --ll\n",
      "guess a character------------> o\n",
      "You already guessed: o\n",
      "guess : 5\n",
      "so far : --ll\n",
      "guess a character------------> p\n",
      "guess : 6\n",
      "so far : --ll\n",
      "guess a character------------> t\n",
      "guess : 7\n",
      "so far : --ll\n",
      "guess a character------------> g\n",
      "You couldn't guess it, it was will\n"
     ]
    }
   ],
   "source": [
    "\n",
    "while guess_number < 8:\n",
    "    print 'guess :',guess_number\n",
    "    print 'so far :',word_so_far\n",
    "    \n",
    "    user_input = raw_input('guess a character------------> ')\n",
    "    \n",
    "    if user_input in guessed_char_list:\n",
    "        print \"You already guessed:\",user_input\n",
    "        continue\n",
    "    else:\n",
    "        guessed_char_list.append(user_input)\n",
    "    \n",
    "    j = 0\n",
    "    if user_input  in word:                       #only do the substitution if the user_input is there in word\n",
    "        word_so_far = list(word_so_far)\n",
    "    \n",
    "        while j < len(word):\n",
    "            if user_input == word[j] :\n",
    "                word_so_far[j] = user_input\n",
    "            j = j + 1\n",
    "        word_so_far=''.join(word_so_far)\n",
    "    \n",
    "        if word_so_far == word:\n",
    "            print \"you won the word is indeed\",word\n",
    "            break\n",
    "        continue                                  \n",
    "    guess_number = guess_number + 1 \n",
    "else:\n",
    "    print \"You couldn't guess it, it was\",word"
   ]
  },
  {
   "cell_type": "code",
   "execution_count": null,
   "metadata": {
    "collapsed": false
   },
   "outputs": [],
   "source": []
  },
  {
   "cell_type": "code",
   "execution_count": null,
   "metadata": {
    "collapsed": true
   },
   "outputs": [],
   "source": []
  }
 ],
 "metadata": {
  "kernelspec": {
   "display_name": "Python 2",
   "language": "python",
   "name": "python2"
  },
  "language_info": {
   "codemirror_mode": {
    "name": "ipython",
    "version": 2
   },
   "file_extension": ".py",
   "mimetype": "text/x-python",
   "name": "python",
   "nbconvert_exporter": "python",
   "pygments_lexer": "ipython2",
   "version": "2.7.10"
  }
 },
 "nbformat": 4,
 "nbformat_minor": 0
}
